{
  "nbformat": 4,
  "nbformat_minor": 0,
  "metadata": {
    "colab": {
      "provenance": []
    },
    "kernelspec": {
      "name": "python3",
      "display_name": "Python 3"
    },
    "language_info": {
      "name": "python"
    }
  },
  "cells": [
    {
      "cell_type": "markdown",
      "source": [
        "# **What Are Python Packages?**\n",
        "\n",
        "A Python package is a **collection of modules** (Python files) grouped together to provide specific functionality. Instead of writing everything from scratch, you can install a package that has already implemented complex tasks — saving you time and effort."
      ],
      "metadata": {
        "id": "y7pX-bmDz4p5"
      }
    },
    {
      "cell_type": "markdown",
      "source": [
        "# **How to Install Packages**\n",
        "Python packages are usually installed from the **Python Package Index (PyPI)** using *pip*."
      ],
      "metadata": {
        "id": "xdKoNNWyl0E6"
      }
    },
    {
      "cell_type": "markdown",
      "source": [
        "# T**o install one package at a time:**\n",
        "\n",
        "*pip install pandas*\n",
        "\n",
        "# **To install multiple packages at a time:**\n",
        "\n",
        "*pip install pandas numpy matplotlib seaborn*\n",
        "\n"
      ],
      "metadata": {
        "id": "m0suEnZAl0A8"
      }
    },
    {
      "cell_type": "markdown",
      "source": [
        "# **1. Pandas**\n",
        "\n",
        "* Pandas is mainly used for data manipulation and analysis.\n",
        "\n",
        "* It introduces DataFrames (tables) and Series (single column) — similar to Excel sheets or SQL tables.\n",
        "\n",
        "* Easily clean, filter, group, aggregate, and transform data."
      ],
      "metadata": {
        "id": "MTEmECo0lz6b"
      }
    },
    {
      "cell_type": "markdown",
      "source": [
        "# **When to use Pandas:**\n",
        "\n",
        "* You have structured data (rows and columns).\n",
        "\n",
        "* You want to clean messy data (fix missing values, remove duplicates).\n",
        "\n",
        "* You need to load data from CSV, Excel, SQL, JSON, etc.\n",
        "\n",
        "* You want to group and summarize data (pivot tables, group by).\n",
        "\n",
        "* You want to reshape data (merge, join, melt, pivot)."
      ],
      "metadata": {
        "id": "UgFGf-UzpuKB"
      }
    },
    {
      "cell_type": "code",
      "source": [
        "import pandas as pd\n",
        "\n",
        "\n",
        "df = pd.DataFrame({\n",
        "    'x': [1, 2, 3, 4],\n",
        "    'y': [10, 20, 25, 30],\n",
        "    'category': ['A', 'B', 'A', 'B']\n",
        "})\n",
        "print(df.head())\n",
        "\n"
      ],
      "metadata": {
        "colab": {
          "base_uri": "https://localhost:8080/"
        },
        "collapsed": true,
        "id": "ObAPJfRwp574",
        "outputId": "28bbc0ce-db65-4af3-e82f-1f00bf665db0"
      },
      "execution_count": 4,
      "outputs": [
        {
          "output_type": "stream",
          "name": "stdout",
          "text": [
            "   x   y category\n",
            "0  1  10        A\n",
            "1  2  20        B\n",
            "2  3  25        A\n",
            "3  4  30        B\n"
          ]
        }
      ]
    },
    {
      "cell_type": "markdown",
      "source": [
        "# **2. NumPy**\n",
        "\n",
        "* NumPy is used for numerical computing and working with arrays.\n",
        "\n",
        "* Introduces the powerful ndarray (n-dimensional array).\n",
        "\n",
        "* Provides tons of fast mathematical functions (linear algebra, random sampling, Fourier transforms).\n",
        "\n",
        "* Basis for many other libraries (Pandas, TensorFlow, Scikit-Learn)."
      ],
      "metadata": {
        "id": "X-dwtQMjpuFo"
      }
    },
    {
      "cell_type": "markdown",
      "source": [
        "# **When to use NumPy:**\n",
        "\n",
        "* You are working with numbers and large data (millions of rows).\n",
        "\n",
        "* You need speed — NumPy operations are much faster than regular Python loops.\n",
        "\n",
        "* You want to perform scientific computing (matrix operations, solving equations)."
      ],
      "metadata": {
        "id": "OobXj-5WpuC-"
      }
    },
    {
      "cell_type": "code",
      "source": [
        "import numpy as np\n",
        "\n",
        "arr = np.array([1, 2, 3, 4])\n",
        "print(arr * 2)  # element-wise operation\n"
      ],
      "metadata": {
        "colab": {
          "base_uri": "https://localhost:8080/"
        },
        "id": "cF4BaXcbqXmn",
        "outputId": "ac6dd900-862e-4357-8e74-3752e30f9331"
      },
      "execution_count": 5,
      "outputs": [
        {
          "output_type": "stream",
          "name": "stdout",
          "text": [
            "[2 4 6 8]\n"
          ]
        }
      ]
    },
    {
      "cell_type": "markdown",
      "source": [
        "# **3. Matplotlib**\n",
        "\n",
        "* Matplotlib is used for basic data visualization — like drawing plots and charts.\n",
        "\n",
        "* Can create line charts, bar charts, scatter plots, histograms, etc.\n",
        "\n",
        "* Highly customizable (colors, styles, labels, titles).\n",
        "\n",
        "* Low-level control over plotting (you build everything manually if you want)."
      ],
      "metadata": {
        "id": "U-acitFIpuAK"
      }
    },
    {
      "cell_type": "markdown",
      "source": [
        "# **When to use Matplotlib:**\n",
        "\n",
        "* You want full control over how a plot looks.\n",
        "\n",
        "* You need to create simple or complex plots from scratch.\n",
        "\n",
        "* You are making custom visualizations for academic papers, reports, etc."
      ],
      "metadata": {
        "id": "wASRLDRMpt9u"
      }
    },
    {
      "cell_type": "code",
      "source": [
        "import matplotlib.pyplot as plt\n",
        "\n",
        "x = [1, 2, 3, 4]\n",
        "y = [10, 20, 25, 30]\n",
        "\n",
        "plt.plot(x, y)\n",
        "plt.title('Simple Line Plot')\n",
        "plt.xlabel('X-axis')\n",
        "plt.ylabel('Y-axis')\n",
        "plt.show()"
      ],
      "metadata": {
        "colab": {
          "base_uri": "https://localhost:8080/",
          "height": 472
        },
        "id": "mxOY6zomptgZ",
        "outputId": "1881ac5d-3c8c-42ac-b3cb-fa8bf62d0341"
      },
      "execution_count": 6,
      "outputs": [
        {
          "output_type": "display_data",
          "data": {
            "text/plain": [
              "<Figure size 640x480 with 1 Axes>"
            ],
            "image/png": "[encoded data removed]"
          },
          "metadata": {}
        }
      ]
    },
    {
      "cell_type": "markdown",
      "source": [
        "# **4. Seaborn**\n",
        "\n",
        "* Seaborn is built on top of Matplotlib for beautiful and statistical visualizations.\n",
        "\n",
        "* Works directly with Pandas DataFrames.\n",
        "\n",
        "* Comes with beautiful themes and color palettes out-of-the-box.\n",
        "\n",
        "* Simplifies complex plots (e.g., heatmaps, boxplots, violin plots)."
      ],
      "metadata": {
        "id": "AB8ILiMlqwBq"
      }
    },
    {
      "cell_type": "markdown",
      "source": [
        "# **When to use Seaborn:**\n",
        "\n",
        "* You want pretty and stylish plots quickly.\n",
        "\n",
        "* You are exploring statistical relationships (correlations, distributions).\n",
        "\n",
        "* You want quick charts without customizing everything manually."
      ],
      "metadata": {
        "id": "EkRwsxLhq3zC"
      }
    },
    {
      "cell_type": "code",
      "source": [
        "import seaborn as sns\n",
        "import pandas as pd\n",
        "\n",
        "df = pd.DataFrame({\n",
        "    'x': [1, 2, 3, 4],\n",
        "    'y': [10, 20, 25, 30],\n",
        "    'category': ['A', 'B', 'A', 'B']\n",
        "})\n",
        "\n",
        "sns.scatterplot(data=df, x='x', y='y', hue='category')"
      ],
      "metadata": {
        "colab": {
          "base_uri": "https://localhost:8080/"
        },
        "collapsed": true,
        "id": "hP5WYGF1q18x",
        "outputId": "13a87416-e320-40f0-f5e8-0fcbf84557b7"
      },
      "execution_count": null,
      "outputs": [
        {
          "output_type": "execute_result",
          "data": {
            "text/plain": [
              "<Axes: xlabel='x', ylabel='y'>"
            ]
          },
          "metadata": {},
          "execution_count": 7
        }
      ]
    },
    {
      "cell_type": "code",
      "source": [],
      "metadata": {
        "id": "GPxnGi4ql39s"
      },
      "execution_count": null,
      "outputs": []
    }
  ]
}